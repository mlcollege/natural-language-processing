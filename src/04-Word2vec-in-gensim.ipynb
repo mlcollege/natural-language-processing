{
  "nbformat": 4,
  "nbformat_minor": 0,
  "metadata": {
    "kernelspec": {
      "display_name": "Python 3",
      "language": "python",
      "name": "python3"
    },
    "language_info": {
      "codemirror_mode": {
        "name": "ipython",
        "version": 3
      },
      "file_extension": ".py",
      "mimetype": "text/x-python",
      "name": "python",
      "nbconvert_exporter": "python",
      "pygments_lexer": "ipython3",
      "version": "3.5.2"
    },
    "colab": {
      "name": "04-Word2vec-in-gensim.ipynb",
      "provenance": []
    }
  },
  "cells": [
    {
      "cell_type": "markdown",
      "metadata": {
        "id": "KNASq2m7PWJt",
        "colab_type": "text"
      },
      "source": [
        "# Word2vec in Gensim\n",
        "\n",
        "Implement a simple word2vec estimator using [Gensim](https://radimrehurek.com/gensim/). Use the small Wikipedia corpus from 'enlang1.txt'."
      ]
    },
    {
      "cell_type": "code",
      "metadata": {
        "id": "bEXQrIywanNu",
        "colab_type": "code",
        "colab": {}
      },
      "source": [
        "!wget https://raw.githubusercontent.com/mlcollege/natural-language-processing/master/data/corpora/enlang1.txt"
      ],
      "execution_count": 0,
      "outputs": []
    },
    {
      "cell_type": "code",
      "metadata": {
        "id": "4YDdRu3APWJw",
        "colab_type": "code",
        "colab": {}
      },
      "source": [
        "import gensim, logging\n",
        "logging.basicConfig(format='%(asctime)s : %(levelname)s : %(message)s', level=logging.INFO)\n",
        "\n",
        "sentences = []\n",
        "with open('enlang1.txt') as f:\n",
        "    for line in f.readlines():\n",
        "        sentences.append(line.strip().split())\n",
        "\n",
        "model = gensim.models.Word2Vec(sentences, size = 50, min_count=3)"
      ],
      "execution_count": 0,
      "outputs": []
    },
    {
      "cell_type": "code",
      "metadata": {
        "id": "ssFkWhCuPWJ_",
        "colab_type": "code",
        "colab": {}
      },
      "source": [
        "print(model.wv['car'])\n"
      ],
      "execution_count": 0,
      "outputs": []
    },
    {
      "cell_type": "code",
      "metadata": {
        "id": "GAANf5r7PWKQ",
        "colab_type": "code",
        "outputId": "65335a05-e127-488a-a4d9-8363561e7d3e",
        "colab": {
          "base_uri": "https://localhost:8080/",
          "height": 258
        }
      },
      "source": [
        "model.wv.most_similar(positive=['cars', 'bus'], negative=['car'])"
      ],
      "execution_count": 4,
      "outputs": [
        {
          "output_type": "stream",
          "text": [
            "2019-12-17 10:00:11,494 : INFO : precomputing L2-norms of word weight vectors\n",
            "/usr/local/lib/python3.6/dist-packages/gensim/matutils.py:737: FutureWarning: Conversion of the second argument of issubdtype from `int` to `np.signedinteger` is deprecated. In future, it will be treated as `np.int64 == np.dtype(int).type`.\n",
            "  if np.issubdtype(vec.dtype, np.int):\n"
          ],
          "name": "stderr"
        },
        {
          "output_type": "execute_result",
          "data": {
            "text/plain": [
              "[('buses', 0.8988571763038635),\n",
              " ('routes', 0.8762962222099304),\n",
              " ('roads', 0.8647735714912415),\n",
              " ('trains', 0.825829803943634),\n",
              " ('airports', 0.8146514892578125),\n",
              " ('rail', 0.8137536644935608),\n",
              " ('transport', 0.8113287687301636),\n",
              " ('connecting', 0.8025506734848022),\n",
              " ('intercity', 0.8015417456626892),\n",
              " ('terminal', 0.7987492084503174)]"
            ]
          },
          "metadata": {
            "tags": []
          },
          "execution_count": 4
        }
      ]
    },
    {
      "cell_type": "markdown",
      "metadata": {
        "id": "29DqGPIWPWKT",
        "colab_type": "text"
      },
      "source": [
        "# Import better models\n",
        "\n",
        "Import word vectors trained on [Common Crawl](https://fasttext.cc/docs/en/english-vectors.html) corpus (600 B tokens) and play with it."
      ]
    },
    {
      "cell_type": "code",
      "metadata": {
        "id": "VXc9qpejc0Gn",
        "colab_type": "code",
        "colab": {
          "base_uri": "https://localhost:8080/",
          "height": 204
        },
        "outputId": "e2c0e83b-0269-4054-92a4-d87800131cbc"
      },
      "source": [
        "!wget https://www.mlcollege.com/data/crawl-300.vec.bz2\n",
        "!bunzip2 crawl-300.vec.bz2"
      ],
      "execution_count": 5,
      "outputs": [
        {
          "output_type": "stream",
          "text": [
            "--2019-12-17 10:00:12--  https://www.mlcollege.com/data/crawl-300.vec.bz2\n",
            "Resolving www.mlcollege.com (www.mlcollege.com)... 91.239.200.57, 2a00:1ed0:2:0:1:5bef:c839:1\n",
            "Connecting to www.mlcollege.com (www.mlcollege.com)|91.239.200.57|:443... connected.\n",
            "HTTP request sent, awaiting response... 200 OK\n",
            "Length: 287960075 (275M) [application/x-bzip2]\n",
            "Saving to: ‘crawl-300.vec.bz2’\n",
            "\n",
            "crawl-300.vec.bz2   100%[===================>] 274.62M  11.2MB/s    in 26s     \n",
            "\n",
            "2019-12-17 10:00:40 (10.4 MB/s) - ‘crawl-300.vec.bz2’ saved [287960075/287960075]\n",
            "\n"
          ],
          "name": "stdout"
        }
      ]
    },
    {
      "cell_type": "code",
      "metadata": {
        "id": "HBpbFeG1PWKT",
        "colab_type": "code",
        "colab": {
          "base_uri": "https://localhost:8080/",
          "height": 105
        },
        "outputId": "9341ca8a-4507-4ca4-b099-eb804353127f"
      },
      "source": [
        "from gensim.models.keyedvectors import KeyedVectors\n",
        "word_vectors = KeyedVectors.load_word2vec_format('crawl-300.vec', binary=False) "
      ],
      "execution_count": 6,
      "outputs": [
        {
          "output_type": "stream",
          "text": [
            "2019-12-17 10:01:40,234 : INFO : loading projection weights from crawl-300.vec\n",
            "/usr/local/lib/python3.6/dist-packages/smart_open/smart_open_lib.py:402: UserWarning: This function is deprecated, use smart_open.open instead. See the migration notes for details: https://github.com/RaRe-Technologies/smart_open/blob/master/README.rst#migrating-to-the-new-open-function\n",
            "  'See the migration notes for details: %s' % _MIGRATION_NOTES_URL\n",
            "2019-12-17 10:04:02,867 : INFO : loaded (500000, 300) matrix from crawl-300.vec\n"
          ],
          "name": "stderr"
        }
      ]
    },
    {
      "cell_type": "code",
      "metadata": {
        "id": "c9fo2HPCPWKV",
        "colab_type": "code",
        "outputId": "9b431bce-6848-4340-9586-b931d6b0d658",
        "colab": {
          "base_uri": "https://localhost:8080/",
          "height": 258
        }
      },
      "source": [
        "word_vectors.most_similar(positive=['kings', 'queen'], negative=['king'])"
      ],
      "execution_count": 7,
      "outputs": [
        {
          "output_type": "stream",
          "text": [
            "2019-12-17 10:04:02,874 : INFO : precomputing L2-norms of word weight vectors\n",
            "/usr/local/lib/python3.6/dist-packages/gensim/matutils.py:737: FutureWarning: Conversion of the second argument of issubdtype from `int` to `np.signedinteger` is deprecated. In future, it will be treated as `np.int64 == np.dtype(int).type`.\n",
            "  if np.issubdtype(vec.dtype, np.int):\n"
          ],
          "name": "stderr"
        },
        {
          "output_type": "execute_result",
          "data": {
            "text/plain": [
              "[('queens', 0.8387579917907715),\n",
              " ('queen.', 0.6004167795181274),\n",
              " ('monarchs', 0.5899761915206909),\n",
              " ('Queen', 0.5859926342964172),\n",
              " ('empresses', 0.577515184879303),\n",
              " ('princes', 0.5499585270881653),\n",
              " ('QUEEN', 0.5448766350746155),\n",
              " ('royals', 0.5442696809768677),\n",
              " ('princesses', 0.5383292436599731),\n",
              " ('royal', 0.5232110023498535)]"
            ]
          },
          "metadata": {
            "tags": []
          },
          "execution_count": 7
        }
      ]
    },
    {
      "cell_type": "code",
      "metadata": {
        "id": "-tvSWbA5PWKZ",
        "colab_type": "code",
        "outputId": "706a36f1-55ff-4c6a-c50a-69537d87327a",
        "colab": {
          "base_uri": "https://localhost:8080/",
          "height": 241
        }
      },
      "source": [
        "word_vectors.most_similar(positive=['woman', 'husband'], negative=['man'])"
      ],
      "execution_count": 8,
      "outputs": [
        {
          "output_type": "stream",
          "text": [
            "/usr/local/lib/python3.6/dist-packages/gensim/matutils.py:737: FutureWarning: Conversion of the second argument of issubdtype from `int` to `np.signedinteger` is deprecated. In future, it will be treated as `np.int64 == np.dtype(int).type`.\n",
            "  if np.issubdtype(vec.dtype, np.int):\n"
          ],
          "name": "stderr"
        },
        {
          "output_type": "execute_result",
          "data": {
            "text/plain": [
              "[('wife', 0.7529045343399048),\n",
              " ('daughter', 0.6500851511955261),\n",
              " ('mother-in-law', 0.6470040082931519),\n",
              " ('spouse', 0.6457177996635437),\n",
              " ('husbands', 0.6331113576889038),\n",
              " ('mother', 0.6005340218544006),\n",
              " ('ex-husband', 0.5952433347702026),\n",
              " ('daughter-in-law', 0.5948172807693481),\n",
              " ('ex-wife', 0.5728636980056763),\n",
              " ('daughters', 0.5600825548171997)]"
            ]
          },
          "metadata": {
            "tags": []
          },
          "execution_count": 8
        }
      ]
    },
    {
      "cell_type": "code",
      "metadata": {
        "id": "Ghnht-YiPWMe",
        "colab_type": "code",
        "outputId": "919fb966-ed26-49f7-934e-0cf86dc2cbac",
        "colab": {
          "base_uri": "https://localhost:8080/",
          "height": 241
        }
      },
      "source": [
        "word_vectors.most_similar(positive=['Paris', 'Spain'], negative=['France'])"
      ],
      "execution_count": 9,
      "outputs": [
        {
          "output_type": "stream",
          "text": [
            "/usr/local/lib/python3.6/dist-packages/gensim/matutils.py:737: FutureWarning: Conversion of the second argument of issubdtype from `int` to `np.signedinteger` is deprecated. In future, it will be treated as `np.int64 == np.dtype(int).type`.\n",
            "  if np.issubdtype(vec.dtype, np.int):\n"
          ],
          "name": "stderr"
        },
        {
          "output_type": "execute_result",
          "data": {
            "text/plain": [
              "[('Madrid', 0.8625079393386841),\n",
              " ('Barcelona', 0.7637038230895996),\n",
              " ('Sevilla', 0.6874053478240967),\n",
              " ('Seville', 0.6747831702232361),\n",
              " ('Malaga', 0.6494932174682617),\n",
              " ('Zaragoza', 0.645937442779541),\n",
              " ('Valencia', 0.6383105516433716),\n",
              " ('Alicante', 0.6115808486938477),\n",
              " ('Salamanca', 0.6041630506515503),\n",
              " ('Murcia', 0.6019026041030884)]"
            ]
          },
          "metadata": {
            "tags": []
          },
          "execution_count": 9
        }
      ]
    },
    {
      "cell_type": "code",
      "metadata": {
        "id": "3Z5tua3yPWMm",
        "colab_type": "code",
        "outputId": "74fb78dd-863b-459c-e3bf-3ef37bf5a86d",
        "colab": {
          "base_uri": "https://localhost:8080/",
          "height": 241
        }
      },
      "source": [
        "word_vectors.most_similar(positive=['Donald', 'Putin'], negative=['Trump'])"
      ],
      "execution_count": 10,
      "outputs": [
        {
          "output_type": "stream",
          "text": [
            "/usr/local/lib/python3.6/dist-packages/gensim/matutils.py:737: FutureWarning: Conversion of the second argument of issubdtype from `int` to `np.signedinteger` is deprecated. In future, it will be treated as `np.int64 == np.dtype(int).type`.\n",
            "  if np.issubdtype(vec.dtype, np.int):\n"
          ],
          "name": "stderr"
        },
        {
          "output_type": "execute_result",
          "data": {
            "text/plain": [
              "[('Vladimir', 0.6446309089660645),\n",
              " ('Medvedev', 0.6112760901451111),\n",
              " ('Sergei', 0.5950402021408081),\n",
              " ('Dmitry', 0.5793238878250122),\n",
              " ('Oleg', 0.5696351528167725),\n",
              " ('Denis', 0.5639138221740723),\n",
              " ('Mikhail', 0.5574286580085754),\n",
              " ('Anatoly', 0.5540498495101929),\n",
              " ('Igor', 0.5533066987991333),\n",
              " ('Ivan', 0.5529454946517944)]"
            ]
          },
          "metadata": {
            "tags": []
          },
          "execution_count": 10
        }
      ]
    }
  ]
}
