{
  "nbformat": 4,
  "nbformat_minor": 0,
  "metadata": {
    "kernelspec": {
      "display_name": "Python 3",
      "language": "python",
      "name": "python3"
    },
    "language_info": {
      "codemirror_mode": {
        "name": "ipython",
        "version": 3
      },
      "file_extension": ".py",
      "mimetype": "text/x-python",
      "name": "python",
      "nbconvert_exporter": "python",
      "pygments_lexer": "ipython3",
      "version": "3.5.2"
    },
    "colab": {
      "name": "05-Review-classification-w2v-solution.ipynb",
      "provenance": []
    }
  },
  "cells": [
    {
      "cell_type": "markdown",
      "metadata": {
        "id": "zFRklAUePXnm",
        "colab_type": "text"
      },
      "source": [
        "# Travel agency's reviews - classification using word2vec vectors\n",
        "\n",
        "Implement and evaluate a classifier of user reviews using Support Vector Machines with RBF kernel. Use the word2vec vectors as features."
      ]
    },
    {
      "cell_type": "code",
      "metadata": {
        "id": "zVhbxL25PXnr",
        "colab_type": "code",
        "colab": {}
      },
      "source": [
        "import pandas as pd\n",
        "\n",
        "reviews = pd.read_csv('https://raw.githubusercontent.com/mlcollege/natural-language-processing/master/data/en_reviews.csv', sep='\\t', header=None, names =['rating', 'text'])\n",
        "reviews[35:45]"
      ],
      "execution_count": 0,
      "outputs": []
    },
    {
      "cell_type": "markdown",
      "metadata": {
        "id": "bcYLe5U1PXn0",
        "colab_type": "text"
      },
      "source": [
        "## Preparation of train and test data sets\n",
        "Separate and rename target values."
      ]
    },
    {
      "cell_type": "code",
      "metadata": {
        "id": "zcBm7sNGPXn7",
        "colab_type": "code",
        "colab": {}
      },
      "source": [
        "target = reviews['rating']\n",
        "data = reviews['text']\n",
        "names = ['Class 1', 'Class 2', 'Class 3','Class 4', 'Class 5']\n",
        "\n",
        "print(data[:5])\n",
        "print(target[:5])"
      ],
      "execution_count": 0,
      "outputs": []
    },
    {
      "cell_type": "markdown",
      "metadata": {
        "id": "omUrSfcZPXoB",
        "colab_type": "text"
      },
      "source": [
        "Tokenize the texts."
      ]
    },
    {
      "cell_type": "code",
      "metadata": {
        "id": "8mi3ysRFPXoD",
        "colab_type": "code",
        "colab": {}
      },
      "source": [
        "from nltk.tokenize.casual import casual_tokenize\n",
        "tokens = data.apply(lambda x: casual_tokenize(x))"
      ],
      "execution_count": 0,
      "outputs": []
    },
    {
      "cell_type": "markdown",
      "metadata": {
        "id": "0oTUPBi2PXoJ",
        "colab_type": "text"
      },
      "source": [
        "Read word2vec vectors from 'crawl-300.vec' as store them as a dictionary. The keys of the dictionary will be tokens, the values will be their word2vec vectors.\n",
        "\n"
      ]
    },
    {
      "cell_type": "code",
      "metadata": {
        "id": "mWlTVDOh6DtP",
        "colab_type": "code",
        "colab": {}
      },
      "source": [
        "!wget https://www.mlcollege.com/data/crawl-300.vec.bz2\n",
        "!bunzip2 crawl-300.vec.bz2"
      ],
      "execution_count": 0,
      "outputs": []
    },
    {
      "cell_type": "code",
      "metadata": {
        "id": "afWH4Jg-PXoN",
        "colab_type": "code",
        "colab": {}
      },
      "source": [
        "import numpy as np\n",
        "DIM = 300 #dimension of the word2vec vectors\n",
        "\n",
        "word_vectors = {}\n",
        "\n",
        "with open('crawl-300.vec') as f:\n",
        "    f.readline()\n",
        "    for line in f.readlines():\n",
        "        items = line.strip().split()\n",
        "        word_vectors[items[0]] = np.array(items[1:], dtype=np.float32)"
      ],
      "execution_count": 0,
      "outputs": []
    },
    {
      "cell_type": "markdown",
      "metadata": {
        "id": "yi7prHLXPXoP",
        "colab_type": "text"
      },
      "source": [
        "Convert the document representation from 'list of tokens' to 'average word2vec vector'. Experiment with other aggregation methods."
      ]
    },
    {
      "cell_type": "code",
      "metadata": {
        "id": "RPKEEJp2PXqx",
        "colab_type": "code",
        "colab": {}
      },
      "source": [
        "vectors = []\n",
        "for line in tokens:\n",
        "    vec_list = []\n",
        "    for token in line:\n",
        "        if token in word_vectors.keys():\n",
        "            vec_list.append(word_vectors.get(token))\n",
        "    if len(vec_list) == 0:\n",
        "        vec_list.append(np.zeros(DIM))        \n",
        "    vectors.append(np.average(vec_list, axis=0))"
      ],
      "execution_count": 0,
      "outputs": []
    },
    {
      "cell_type": "markdown",
      "metadata": {
        "id": "WFD43PKkPXrH",
        "colab_type": "text"
      },
      "source": [
        "Shuffle the data and split it to train and test parts."
      ]
    },
    {
      "cell_type": "code",
      "metadata": {
        "id": "9KNhDSGzPXrJ",
        "colab_type": "code",
        "colab": {}
      },
      "source": [
        "from sklearn.model_selection import train_test_split\n",
        "\n",
        "X_train, X_test, y_train, y_test = train_test_split(vectors, target, test_size=0.2)\n",
        "print('Train size: {}'.format(len(X_train)))\n",
        "print('Test size: {}'.format(len(X_test)))"
      ],
      "execution_count": 0,
      "outputs": []
    },
    {
      "cell_type": "markdown",
      "metadata": {
        "id": "PeUyiqJBPXrL",
        "colab_type": "text"
      },
      "source": [
        "## Classification\n",
        "\n",
        "Prepare ML pipeline including data and train a classifier."
      ]
    },
    {
      "cell_type": "code",
      "metadata": {
        "id": "iB6uwGtoPXrM",
        "colab_type": "code",
        "colab": {}
      },
      "source": [
        "from sklearn.pipeline import Pipeline\n",
        "from sklearn.preprocessing import StandardScaler\n",
        "from sklearn.svm import SVC\n",
        "\n",
        "clf_pipeline = Pipeline([('std', StandardScaler()),\n",
        "                         ('svm', SVC(kernel='rbf'))])\n",
        "    \n",
        "clf_pipeline.fit(X_train, y_train)\n",
        "\n",
        "y_pred = clf_pipeline.predict(X_test)"
      ],
      "execution_count": 0,
      "outputs": []
    },
    {
      "cell_type": "markdown",
      "metadata": {
        "id": "GLsTVcNbPXrR",
        "colab_type": "text"
      },
      "source": [
        "## Evaluation\n",
        "\n",
        "Evaluate the models using standard methods."
      ]
    },
    {
      "cell_type": "code",
      "metadata": {
        "id": "wWiz_cS3PXrR",
        "colab_type": "code",
        "colab": {}
      },
      "source": [
        "from sklearn import metrics\n",
        "\n",
        "print()\n",
        "print(\"ML MODEL REPORT\")\n",
        "print(\"Accuracy: {}\".format(metrics.accuracy_score(y_test, y_pred)))\n",
        "print(\"Confusion matrix:\")\n",
        "print(metrics.confusion_matrix(y_test, y_pred))\n",
        "print(metrics.classification_report(y_test, y_pred,\n",
        "                                            target_names=names))"
      ],
      "execution_count": 0,
      "outputs": []
    }
  ]
}
