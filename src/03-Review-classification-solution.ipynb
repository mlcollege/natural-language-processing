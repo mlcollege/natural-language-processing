{
  "nbformat": 4,
  "nbformat_minor": 0,
  "metadata": {
    "kernelspec": {
      "display_name": "Python 3",
      "language": "python",
      "name": "python3"
    },
    "language_info": {
      "codemirror_mode": {
        "name": "ipython",
        "version": 3
      },
      "file_extension": ".py",
      "mimetype": "text/x-python",
      "name": "python",
      "nbconvert_exporter": "python",
      "pygments_lexer": "ipython3",
      "version": "3.5.2"
    },
    "colab": {
      "name": "03-Review-classification-solution.ipynb",
      "provenance": []
    }
  },
  "cells": [
    {
      "cell_type": "markdown",
      "metadata": {
        "id": "jwlrZ-wxPVSI",
        "colab_type": "text"
      },
      "source": [
        "# Travel agency's reviews - classification\n",
        "\n",
        "Implement and evaluate a classifier of user reviews using methods described in the NLP tutorial."
      ]
    },
    {
      "cell_type": "code",
      "metadata": {
        "id": "sJ2dZBElPVSL",
        "colab_type": "code",
        "colab": {}
      },
      "source": [
        "import pandas as pd\n",
        "\n",
        "reviews = pd.read_csv('https://raw.githubusercontent.com/mlcollege/natural-language-processing/master/data/en_reviews.csv', sep='\\t', header=None, names =['rating', 'text'])\n",
        "reviews[35:45]"
      ],
      "execution_count": 0,
      "outputs": []
    },
    {
      "cell_type": "markdown",
      "metadata": {
        "id": "Kwleov61PVSQ",
        "colab_type": "text"
      },
      "source": [
        "## Preparation of train and test data sets\n",
        "Separate and rename target values."
      ]
    },
    {
      "cell_type": "code",
      "metadata": {
        "id": "rMnfAByvPVSR",
        "colab_type": "code",
        "colab": {}
      },
      "source": [
        "target = reviews['rating']\n",
        "data = reviews['text']\n",
        "names = ['Class 1', 'Class 2', 'Class 3','Class 4', 'Class 5']\n",
        "\n",
        "#reduce number of classes\n",
        "#target = list(map(lambda t: 1 if t==4 or t==5 else 0, target))\n",
        "#names = [\"Negative\", \"Positive\"]\n",
        "\n",
        "print(data[:5])\n",
        "print(target[:5])"
      ],
      "execution_count": 0,
      "outputs": []
    },
    {
      "cell_type": "markdown",
      "metadata": {
        "id": "M7vQ7U_1PVSV",
        "colab_type": "text"
      },
      "source": [
        "Shuffle the data and split it to train and test parts."
      ]
    },
    {
      "cell_type": "code",
      "metadata": {
        "id": "zEjEjQ-uPVSW",
        "colab_type": "code",
        "colab": {}
      },
      "source": [
        "from sklearn.model_selection import train_test_split\n",
        "\n",
        "X_train, X_test, y_train, y_test = train_test_split(data, target, test_size=0.2)\n",
        "print('Train size: {}'.format(len(X_train)))\n",
        "print('Test size: {}'.format(len(X_test)))"
      ],
      "execution_count": 0,
      "outputs": []
    },
    {
      "cell_type": "markdown",
      "metadata": {
        "id": "NaDv1CkoPVSY",
        "colab_type": "text"
      },
      "source": [
        "## Classification\n",
        "\n",
        "Prepare ML pipeline including data preprocessing and train a classifier. Implement a baseline model using [DummyClassifier](http://scikit-learn.org/stable/modules/generated/sklearn.dummy.DummyClassifier.html). Experiment with various models and data preprocessing techniques."
      ]
    },
    {
      "cell_type": "code",
      "metadata": {
        "id": "yYy2B-nuPVSZ",
        "colab_type": "code",
        "colab": {}
      },
      "source": [
        "from sklearn.pipeline import Pipeline\n",
        "from sklearn.feature_extraction.text import CountVectorizer, TfidfTransformer\n",
        "from nltk.tokenize.casual import casual_tokenize\n",
        "\n",
        "from sklearn.dummy import DummyClassifier\n",
        "from sklearn.naive_bayes import MultinomialNB\n",
        "from sklearn.linear_model import LogisticRegression\n",
        "from sklearn.svm import SVC\n",
        "from sklearn.ensemble import GradientBoostingClassifier\n",
        "\n",
        "baselineModel = Pipeline([('vec', CountVectorizer(tokenizer=lambda x: casual_tokenize(x))),\n",
        "                          ('clf', DummyClassifier(strategy='stratified'))\n",
        "                         ])\n",
        "                          \n",
        "clfModel = Pipeline([('vec', CountVectorizer(tokenizer=lambda x: casual_tokenize(x))),\n",
        "                     ('tfidf', TfidfTransformer()),\n",
        "                     #('clf', MultinomialNB())\n",
        "                     #('clf', LogisticRegression())\n",
        "                     #('clf', GradientBoostingClassifier(n_estimators=300))\n",
        "                     ('clf', SVC(kernel='linear'))\n",
        "                    ])\n",
        "\n",
        "baselineModel.fit(X_train, y_train)\n",
        "clfModel.fit(X_train, y_train)\n",
        "\n",
        "y_baseline = baselineModel.predict(X_test)\n",
        "y_pred = clfModel.predict(X_test)"
      ],
      "execution_count": 0,
      "outputs": []
    },
    {
      "cell_type": "markdown",
      "metadata": {
        "id": "B6nXab5jPVSb",
        "colab_type": "text"
      },
      "source": [
        "## Evaluation\n",
        "\n",
        "Evaluate the models using standard methods. Which model performs best?"
      ]
    },
    {
      "cell_type": "code",
      "metadata": {
        "id": "E104ulYLPVSb",
        "colab_type": "code",
        "colab": {}
      },
      "source": [
        "from sklearn import metrics\n",
        "\n",
        "print(\"BASELINE REPORT\")\n",
        "print(\"Accuracy: {}\".format(metrics.accuracy_score(y_test, y_baseline)))\n",
        "print(\"Confusion matrix:\")\n",
        "print(metrics.confusion_matrix(y_test, y_baseline))\n",
        "print(metrics.classification_report(y_test, y_baseline,\n",
        "                                            target_names=names))\n",
        "print()\n",
        "print(\"ML MODEL REPORT\")\n",
        "print(\"Accuracy: {}\".format(metrics.accuracy_score(y_test, y_pred)))\n",
        "print(\"Confusion matrix:\")\n",
        "print(metrics.confusion_matrix(y_test, y_pred))\n",
        "print(metrics.classification_report(y_test, y_pred,\n",
        "                                            target_names=names))"
      ],
      "execution_count": 0,
      "outputs": []
    }
  ]
}
