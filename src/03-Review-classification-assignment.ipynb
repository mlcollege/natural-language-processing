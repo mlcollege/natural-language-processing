{
  "nbformat": 4,
  "nbformat_minor": 0,
  "metadata": {
    "kernelspec": {
      "display_name": "Python 3",
      "language": "python",
      "name": "python3"
    },
    "language_info": {
      "codemirror_mode": {
        "name": "ipython",
        "version": 3
      },
      "file_extension": ".py",
      "mimetype": "text/x-python",
      "name": "python",
      "nbconvert_exporter": "python",
      "pygments_lexer": "ipython3",
      "version": "3.5.2"
    },
    "colab": {
      "name": "03-Review-classification-assignment.ipynb",
      "provenance": []
    }
  },
  "cells": [
    {
      "cell_type": "markdown",
      "metadata": {
        "id": "Ex04UYHoPU8Z",
        "colab_type": "text"
      },
      "source": [
        "# Travel agency's reviews - classification\n",
        "\n",
        "Implement and evaluate a classifier of user reviews using methods described in the NLP tutorial."
      ]
    },
    {
      "cell_type": "code",
      "metadata": {
        "id": "np1Jcu7uPU8i",
        "colab_type": "code",
        "colab": {}
      },
      "source": [
        "import pandas as pd\n",
        "\n",
        "reviews = pd.read_csv('https://raw.githubusercontent.com/mlcollege/natural-language-processing/master/data/en_reviews.csv', sep='\\t', header=None, names =['rating', 'text'])\n",
        "reviews[35:45]"
      ],
      "execution_count": 0,
      "outputs": []
    },
    {
      "cell_type": "markdown",
      "metadata": {
        "id": "TE5bVgptPU8t",
        "colab_type": "text"
      },
      "source": [
        "## Preparation of train and test data sets\n",
        "Separate and rename target values."
      ]
    },
    {
      "cell_type": "code",
      "metadata": {
        "id": "G7IL1aVBPU8u",
        "colab_type": "code",
        "colab": {}
      },
      "source": [
        "target = reviews['rating']\n",
        "data = reviews['text']\n",
        "names = ['Class 1', 'Class 2', 'Class 3','Class 4', 'Class 5']\n",
        "\n",
        "#reduce number of classes\n",
        "#target = list(map(lambda t: 1 if t==4 or t==5 else 0, target))\n",
        "#names = [\"Negative\", \"Positive\"]\n",
        "\n",
        "print(data[:5])\n",
        "print(target[:5])"
      ],
      "execution_count": 0,
      "outputs": []
    },
    {
      "cell_type": "markdown",
      "metadata": {
        "id": "pVpZtJqiPU9B",
        "colab_type": "text"
      },
      "source": [
        "Shuffle the data and split it to train and test parts."
      ]
    },
    {
      "cell_type": "code",
      "metadata": {
        "id": "gzmWm5g8PU9C",
        "colab_type": "code",
        "colab": {}
      },
      "source": [
        "from sklearn.model_selection import train_test_split\n",
        "\n",
        "X_train, X_test, y_train, y_test = train_test_split(data, target, test_size=0.2)\n",
        "print('Train size: {}'.format(len(X_train)))\n",
        "print('Test size: {}'.format(len(X_test)))"
      ],
      "execution_count": 0,
      "outputs": []
    },
    {
      "cell_type": "markdown",
      "metadata": {
        "id": "twlUIjcgPU9E",
        "colab_type": "text"
      },
      "source": [
        "## Classification\n",
        "\n",
        "Prepare ML pipeline including data preprocessing and train a classifier. Implement a baseline model using [DummyClassifier](http://scikit-learn.org/stable/modules/generated/sklearn.dummy.DummyClassifier.html). Experiment with various models and data preprocessing techniques."
      ]
    },
    {
      "cell_type": "code",
      "metadata": {
        "id": "LAq-Wh1vPU9F",
        "colab_type": "code",
        "colab": {}
      },
      "source": [
        "#TODO"
      ],
      "execution_count": 0,
      "outputs": []
    },
    {
      "cell_type": "markdown",
      "metadata": {
        "id": "JRyrXmlzPU9M",
        "colab_type": "text"
      },
      "source": [
        "## Evaluation\n",
        "\n",
        "Evaluate the models using standard methods. Which model performs best?"
      ]
    },
    {
      "cell_type": "code",
      "metadata": {
        "id": "nQHHB86LPU9W",
        "colab_type": "code",
        "colab": {}
      },
      "source": [
        "#TODO"
      ],
      "execution_count": 0,
      "outputs": []
    }
  ]
}
