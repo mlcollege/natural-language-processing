{
 "cells": [
  {
   "cell_type": "markdown",
   "metadata": {},
   "source": [
    "# Language detection using language models\n",
    "\n",
    "The goal of this task is to implement a detector of the English language using language models. You will compute the perplexity of an investigated text given the English language model and decide whether the text is written in English based on a perplexity threshold."
   ]
  },
  {
   "cell_type": "markdown",
   "metadata": {},
   "source": [
    "## Create an English language model\n",
    "\n",
    "Load English Wikipedia texts from ‘../data/corpora/enlang1.txt’ and create an English bigram model – ie. Compute unigram histograms, bigram histograms and the size of vocabulary (number of unique characters).\n",
    "\n",
    "Experiment with different language models, e.g. a trigram model."
   ]
  },
  {
   "cell_type": "code",
   "execution_count": 1,
   "metadata": {},
   "outputs": [
    {
     "name": "stdout",
     "output_type": "stream",
     "text": [
      "the punjabi suba movement aimed at creation of punjabi majority subah province in the erstwhile east punjab state of india in the led by the akali dal it resulted in the formation of the punjabi major\n"
     ]
    }
   ],
   "source": [
    "with open('../data/corpora/enlang1.txt') as fin:\n",
    "    print(fin.readlines()[0][:200])"
   ]
  },
  {
   "cell_type": "code",
   "execution_count": 2,
   "metadata": {},
   "outputs": [],
   "source": [
    "V = 0 #size of vocabulary\n",
    "histogram = {} #unigram and bigram frequencies\n",
    "\n",
    "with open('../data/corpora/enlang1.txt') as fin:\n",
    "    for doc in fin.readlines():\n",
    "        for i in range(len(doc)-2):\n",
    "            bigram = doc[i:i+2]\n",
    "            unigram = doc[i]\n",
    "            histogram[bigram] = histogram.get(bigram, 0) + 1\n",
    "            histogram[unigram] = histogram.get(unigram, 0) + 1\n",
    "    V = len([unigram for unigram in histogram.keys() if len(unigram) == 1])"
   ]
  },
  {
   "cell_type": "code",
   "execution_count": 4,
   "metadata": {},
   "outputs": [
    {
     "name": "stdout",
     "output_type": "stream",
     "text": [
      "2147\n",
      "261288\n",
      "2985706\n"
     ]
    }
   ],
   "source": [
    "print(V)\n",
    "print(histogram['en'])\n",
    "print(histogram['e'])"
   ]
  },
  {
   "cell_type": "markdown",
   "metadata": {},
   "source": [
    "## Define the function for computing perplexity. \n",
    "\n",
    "The function should take a string as a parameter and return its perplexity based on the language model from above. Use the Laplace smoothing for probability estimation."
   ]
  },
  {
   "cell_type": "code",
   "execution_count": null,
   "metadata": {},
   "outputs": [],
   "source": [
    "import numpy as np\n",
    "\n",
    "#Compute the probability of a bigram using the Laplace smoothing\n",
    "def getProbability(bigram):\n",
    "    #TODO\n",
    "\n",
    "# Get the perplexity of text.\n",
    "def getPerplexity(text):\n",
    "    #TODO"
   ]
  },
  {
   "cell_type": "markdown",
   "metadata": {},
   "source": [
    "## Compute perplexities\n",
    "\n",
    "Compute perplexities of various text corpora from Wikipedia."
   ]
  },
  {
   "cell_type": "code",
   "execution_count": null,
   "metadata": {},
   "outputs": [],
   "source": [
    "PATH = '../data/corpora/'\n",
    "\n",
    "languages = {'en': {'file': 'enlang2.txt'},\n",
    "             'cs': {'file': 'cslang.txt'},\n",
    "             'es': {'file': 'eslang.txt'},\n",
    "             'fr': {'file': 'frlang.txt'},\n",
    "             'it': {'file': 'itlang.txt'},\n",
    "             'ru': {'file': 'rulang.txt'},\n",
    "             'mixed': {'file': 'mixedlang.txt'}\n",
    "            }\n",
    "\n",
    "for lang, v in languages.items():\n",
    "    with open(PATH + v['file']) as fin:\n",
    "        perplexities = []\n",
    "        for doc in fin.readlines():\n",
    "            doc = doc.strip()\n",
    "            perplexities.append(getPerplexity(doc))\n",
    "        languages[lang]['perplexities'] = perplexities"
   ]
  },
  {
   "cell_type": "markdown",
   "metadata": {},
   "source": [
    "## Plot histograms\n",
    "\n",
    "Plot perplexity histograms of the English and mixed corpora. Decide what the best threshold for detecting the English language is. Visualize perplexities of the other corpora. "
   ]
  },
  {
   "cell_type": "code",
   "execution_count": null,
   "metadata": {},
   "outputs": [],
   "source": [
    "%matplotlib notebook\n",
    "\n",
    "import matplotlib.pyplot as plt\n",
    "\n",
    "x1 = languages['en']['perplexities']\n",
    "x2 = languages['mixed']['perplexities']\n",
    "\n",
    "mu1 = np.mean(x1)\n",
    "sigma1 = np.std(x1)\n",
    "print(\"Mean and standard deviation of the first dataset: mean={}, std={}.\".format(mu1, sigma1))\n",
    "\n",
    "mu2 = np.mean(x2)\n",
    "sigma2 = np.std(x2)\n",
    "print(\"Mean and standard deviation of the second dataset: mean={}, std={}.\".format(mu2, sigma2))\n",
    "\n",
    "# histograms of perplexities\n",
    "plt.hist(x1, bins='auto', normed=1, facecolor='blue', alpha=0.8)\n",
    "plt.hist(x2, bins=1000, normed=1, facecolor='red', alpha=0.8)\n",
    "\n",
    "plt.xlabel('Perplexity')\n",
    "plt.ylabel('Density')\n",
    "plt.axis([8, 20, 0, 0.55])\n",
    "plt.grid(True)\n",
    "\n",
    "plt.show()"
   ]
  },
  {
   "cell_type": "markdown",
   "metadata": {},
   "source": [
    "## Language detector\n",
    "\n",
    "Implement and test the ‘detectLang’ function, which takes a string as the input and returns true if the string is written in English. It returns False otherwise."
   ]
  },
  {
   "cell_type": "code",
   "execution_count": null,
   "metadata": {},
   "outputs": [],
   "source": [
    "def detectLang(text, threshold=14):\n",
    "    text = text.lower() #The training corpus was also in the lowercase form.\n",
    "    #TODO"
   ]
  },
  {
   "cell_type": "code",
   "execution_count": null,
   "metadata": {},
   "outputs": [],
   "source": [
    "print(detectLang('this is an example of the english language'))\n",
    "print(detectLang('another text written in the target language which should pass'))\n",
    "print(detectLang('toto je ukázkový český text'))\n",
    "print(detectLang('následuje alternativní posloupnost znaků'))"
   ]
  }
 ],
 "metadata": {
  "kernelspec": {
   "display_name": "Python 3",
   "language": "python",
   "name": "python3"
  },
  "language_info": {
   "codemirror_mode": {
    "name": "ipython",
    "version": 3
   },
   "file_extension": ".py",
   "mimetype": "text/x-python",
   "name": "python",
   "nbconvert_exporter": "python",
   "pygments_lexer": "ipython3",
   "version": "3.5.2"
  }
 },
 "nbformat": 4,
 "nbformat_minor": 2
}
