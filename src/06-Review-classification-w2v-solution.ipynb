{
 "cells": [
  {
   "cell_type": "markdown",
   "metadata": {},
   "source": [
    "# Travel agency's reviews - classification using word2vec vectors\n",
    "\n",
    "Implement and evaluate a classifier of user reviews using Support Vector Machines with RBF kernel. Use the word2vec vectors as features."
   ]
  },
  {
   "cell_type": "code",
   "execution_count": 1,
   "metadata": {},
   "outputs": [
    {
     "data": {
      "text/html": [
       "<div>\n",
       "<style scoped>\n",
       "    .dataframe tbody tr th:only-of-type {\n",
       "        vertical-align: middle;\n",
       "    }\n",
       "\n",
       "    .dataframe tbody tr th {\n",
       "        vertical-align: top;\n",
       "    }\n",
       "\n",
       "    .dataframe thead th {\n",
       "        text-align: right;\n",
       "    }\n",
       "</style>\n",
       "<table border=\"1\" class=\"dataframe\">\n",
       "  <thead>\n",
       "    <tr style=\"text-align: right;\">\n",
       "      <th></th>\n",
       "      <th>rating</th>\n",
       "      <th>text</th>\n",
       "    </tr>\n",
       "  </thead>\n",
       "  <tbody>\n",
       "    <tr>\n",
       "      <th>35</th>\n",
       "      <td>5</td>\n",
       "      <td>I bought the cheapest tickets through this ser...</td>\n",
       "    </tr>\n",
       "    <tr>\n",
       "      <th>36</th>\n",
       "      <td>5</td>\n",
       "      <td>Such a pleasure to know that you will be prope...</td>\n",
       "    </tr>\n",
       "    <tr>\n",
       "      <th>37</th>\n",
       "      <td>5</td>\n",
       "      <td>I always use this website to look for flights ...</td>\n",
       "    </tr>\n",
       "    <tr>\n",
       "      <th>38</th>\n",
       "      <td>2</td>\n",
       "      <td>A startup that finds discount flight tickets '...</td>\n",
       "    </tr>\n",
       "    <tr>\n",
       "      <th>39</th>\n",
       "      <td>5</td>\n",
       "      <td>Excellent customer service, fast and kind. Wan...</td>\n",
       "    </tr>\n",
       "    <tr>\n",
       "      <th>40</th>\n",
       "      <td>4</td>\n",
       "      <td>very good service from Quan Costa to help me w...</td>\n",
       "    </tr>\n",
       "    <tr>\n",
       "      <th>41</th>\n",
       "      <td>3</td>\n",
       "      <td>.@Skypickercom Finds Cheap Flights 'Hidden' On...</td>\n",
       "    </tr>\n",
       "    <tr>\n",
       "      <th>42</th>\n",
       "      <td>5</td>\n",
       "      <td>I have a problem with my tickets skypicker don...</td>\n",
       "    </tr>\n",
       "    <tr>\n",
       "      <th>43</th>\n",
       "      <td>4</td>\n",
       "      <td>Even though it took a bit time untill an agent...</td>\n",
       "    </tr>\n",
       "    <tr>\n",
       "      <th>44</th>\n",
       "      <td>5</td>\n",
       "      <td>Today I had a great experience with one of Kiw...</td>\n",
       "    </tr>\n",
       "  </tbody>\n",
       "</table>\n",
       "</div>"
      ],
      "text/plain": [
       "    rating                                               text\n",
       "35       5  I bought the cheapest tickets through this ser...\n",
       "36       5  Such a pleasure to know that you will be prope...\n",
       "37       5  I always use this website to look for flights ...\n",
       "38       2  A startup that finds discount flight tickets '...\n",
       "39       5  Excellent customer service, fast and kind. Wan...\n",
       "40       4  very good service from Quan Costa to help me w...\n",
       "41       3  .@Skypickercom Finds Cheap Flights 'Hidden' On...\n",
       "42       5  I have a problem with my tickets skypicker don...\n",
       "43       4  Even though it took a bit time untill an agent...\n",
       "44       5  Today I had a great experience with one of Kiw..."
      ]
     },
     "execution_count": 1,
     "metadata": {},
     "output_type": "execute_result"
    }
   ],
   "source": [
    "import pandas as pd\n",
    "\n",
    "reviews = pd.read_csv('../data/en_reviews.csv', sep='\\t', header=None, names =['rating', 'text'])\n",
    "reviews[35:45]"
   ]
  },
  {
   "cell_type": "markdown",
   "metadata": {},
   "source": [
    "## Preparation of train and test data sets\n",
    "Separate and rename target values."
   ]
  },
  {
   "cell_type": "code",
   "execution_count": 2,
   "metadata": {},
   "outputs": [
    {
     "name": "stdout",
     "output_type": "stream",
     "text": [
      "0    A voucher to nowhere #skypickerfail 2400 out o...\n",
      "1    I booked with Kiwi for the first time, just a ...\n",
      "2    I would like to say THANKS YOU for your custom...\n",
      "3    I just noticed 2 hours before my flight that I...\n",
      "4    This is the first time I have dealt with Skypi...\n",
      "Name: text, dtype: object\n",
      "0    2\n",
      "1    5\n",
      "2    5\n",
      "3    5\n",
      "4    2\n",
      "Name: rating, dtype: int64\n"
     ]
    }
   ],
   "source": [
    "target = reviews['rating']\n",
    "data = reviews['text']\n",
    "names = ['Class 1', 'Class 2', 'Class 3','Class 4', 'Class 5']\n",
    "\n",
    "print(data[:5])\n",
    "print(target[:5])"
   ]
  },
  {
   "cell_type": "markdown",
   "metadata": {},
   "source": [
    "Tokenize the texts."
   ]
  },
  {
   "cell_type": "code",
   "execution_count": 3,
   "metadata": {},
   "outputs": [],
   "source": [
    "from nltk.tokenize.casual import casual_tokenize\n",
    "tokens = data.apply(lambda x: casual_tokenize(x))"
   ]
  },
  {
   "cell_type": "markdown",
   "metadata": {},
   "source": [
    "Read word2vec vectors from '../data/crawl-300.vec' as store them as a dictionary. The keys of the dictionary will be tokens, the values will be their word2vec vectors."
   ]
  },
  {
   "cell_type": "code",
   "execution_count": 4,
   "metadata": {},
   "outputs": [],
   "source": [
    "import numpy as np\n",
    "DIM = 300 #dimension of the word2vec vectors\n",
    "\n",
    "word_vectors = {}\n",
    "\n",
    "with open('../data/crawl-300.vec') as f:\n",
    "    f.readline()\n",
    "    for line in f.readlines():\n",
    "        items = line.strip().split()\n",
    "        word_vectors[items[0]] = np.array(items[1:], dtype=np.float32)"
   ]
  },
  {
   "cell_type": "markdown",
   "metadata": {},
   "source": [
    "Convert the document representation from 'list of tokens' to 'average word2vec vector'. Experiment with other aggregation methods."
   ]
  },
  {
   "cell_type": "code",
   "execution_count": 5,
   "metadata": {},
   "outputs": [],
   "source": [
    "vectors = []\n",
    "for line in tokens:\n",
    "    vec_list = []\n",
    "    for token in line:\n",
    "        if token in word_vectors.keys():\n",
    "            vec_list.append(word_vectors.get(token))\n",
    "    if len(vec_list) == 0:\n",
    "        vec_list.append(np.zeros(DIM))        \n",
    "    vectors.append(np.average(vec_list, axis=0))"
   ]
  },
  {
   "cell_type": "markdown",
   "metadata": {},
   "source": [
    "Shuffle the data and split it to train and test parts."
   ]
  },
  {
   "cell_type": "code",
   "execution_count": 6,
   "metadata": {},
   "outputs": [
    {
     "name": "stdout",
     "output_type": "stream",
     "text": [
      "Train size: 6234\n",
      "Test size: 1559\n"
     ]
    }
   ],
   "source": [
    "from sklearn.model_selection import train_test_split\n",
    "\n",
    "X_train, X_test, y_train, y_test = train_test_split(vectors, target, test_size=0.2)\n",
    "print('Train size: {}'.format(len(X_train)))\n",
    "print('Test size: {}'.format(len(X_test)))"
   ]
  },
  {
   "cell_type": "markdown",
   "metadata": {},
   "source": [
    "## Classification\n",
    "\n",
    "Prepare ML pipeline including data and train a classifier."
   ]
  },
  {
   "cell_type": "code",
   "execution_count": 7,
   "metadata": {},
   "outputs": [],
   "source": [
    "from sklearn.pipeline import Pipeline\n",
    "from sklearn.preprocessing import StandardScaler\n",
    "from sklearn.svm import SVC\n",
    "\n",
    "clf_pipeline = Pipeline([('std', StandardScaler()),\n",
    "                         ('svm', SVC(kernel='rbf'))])\n",
    "    \n",
    "clf_pipeline.fit(X_train, y_train)\n",
    "\n",
    "y_pred = clf_pipeline.predict(X_test)"
   ]
  },
  {
   "cell_type": "markdown",
   "metadata": {},
   "source": [
    "## Evaluation\n",
    "\n",
    "Evaluate the models using standard methods."
   ]
  },
  {
   "cell_type": "code",
   "execution_count": 8,
   "metadata": {},
   "outputs": [
    {
     "name": "stdout",
     "output_type": "stream",
     "text": [
      "\n",
      "ML MODEL REPORT\n",
      "Accuracy: 0.8152661962796665\n",
      "Confusion matrix:\n",
      "[[ 150    0    0    0   14]\n",
      " [  16   20    0    0    4]\n",
      " [  16    0   19    0   31]\n",
      " [   6    0    0    5  190]\n",
      " [  11    0    0    0 1077]]\n",
      "             precision    recall  f1-score   support\n",
      "\n",
      "    Class 1       0.75      0.91      0.83       164\n",
      "    Class 2       1.00      0.50      0.67        40\n",
      "    Class 3       1.00      0.29      0.45        66\n",
      "    Class 4       1.00      0.02      0.05       201\n",
      "    Class 5       0.82      0.99      0.90      1088\n",
      "\n",
      "avg / total       0.85      0.82      0.75      1559\n",
      "\n"
     ]
    }
   ],
   "source": [
    "from sklearn import metrics\n",
    "\n",
    "print()\n",
    "print(\"ML MODEL REPORT\")\n",
    "print(\"Accuracy: {}\".format(metrics.accuracy_score(y_test, y_pred)))\n",
    "print(\"Confusion matrix:\")\n",
    "print(metrics.confusion_matrix(y_test, y_pred))\n",
    "print(metrics.classification_report(y_test, y_pred,\n",
    "                                            target_names=names))"
   ]
  }
 ],
 "metadata": {
  "kernelspec": {
   "display_name": "Python 3",
   "language": "python",
   "name": "python3"
  },
  "language_info": {
   "codemirror_mode": {
    "name": "ipython",
    "version": 3
   },
   "file_extension": ".py",
   "mimetype": "text/x-python",
   "name": "python",
   "nbconvert_exporter": "python",
   "pygments_lexer": "ipython3",
   "version": "3.5.2"
  }
 },
 "nbformat": 4,
 "nbformat_minor": 2
}
